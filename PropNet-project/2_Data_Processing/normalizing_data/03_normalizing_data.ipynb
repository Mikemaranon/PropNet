{
 "cells": [
  {
   "cell_type": "markdown",
   "metadata": {},
   "source": [
    "# Normalizing data\n",
    "this notebook will ensure that the processed and generated data in addition with the KPI's will be normalized so that the tensorflow model can handle them correctly"
   ]
  },
  {
   "cell_type": "code",
   "execution_count": 4,
   "metadata": {},
   "outputs": [],
   "source": [
    "import pandas as pd\n",
    "import numpy as np\n",
    "from sklearn.preprocessing import StandardScaler, MinMaxScaler"
   ]
  },
  {
   "cell_type": "markdown",
   "metadata": {},
   "source": [
    "### Load the dataset from previous phase"
   ]
  },
  {
   "cell_type": "code",
   "execution_count": 5,
   "metadata": {},
   "outputs": [
    {
     "name": "stdout",
     "output_type": "stream",
     "text": [
      "   mainroad  parking  guestroom  airconditioning     price  semi-furnished  \\\n",
      "0         1        2          0                1  13300000               0   \n",
      "1         1        3          0                1  12250000               0   \n",
      "2         1        2          0                0  12250000               1   \n",
      "3         1        3          0                1  12215000               0   \n",
      "4         1        2          1                1  11410000               0   \n",
      "\n",
      "   bathrooms  prefarea  bedrooms  stories  area  furnished  unfurnished  \\\n",
      "0          2         1         4        3  7420          1            0   \n",
      "1          4         0         4        4  8960          1            0   \n",
      "2          2         1         3        2  9960          0            0   \n",
      "3          2         1         4        2  7500          1            0   \n",
      "4          1         0         4        2  7420          1            0   \n",
      "\n",
      "   basement  price_per_sqft  price_per_room  bath_to_bed_ratio  num_features  \\\n",
      "0         0         1792.45         2216666           0.500000             6   \n",
      "1         0         1367.19         1531250           1.000000             6   \n",
      "2         1         1229.92         2450000           0.666667             6   \n",
      "3         1         1628.67         2035833           0.500000             8   \n",
      "4         1         1537.74         2282000           0.250000             7   \n",
      "\n",
      "   location_features  \n",
      "0                  2  \n",
      "1                  1  \n",
      "2                  2  \n",
      "3                  2  \n",
      "4                  1  \n"
     ]
    }
   ],
   "source": [
    "data = pd.read_csv(\"../feature_engineering/processed_data.csv\")\n",
    "\n",
    "print(data.head())"
   ]
  },
  {
   "cell_type": "markdown",
   "metadata": {},
   "source": [
    "## Step 1: Separate Characteristics and Objective variable"
   ]
  },
  {
   "cell_type": "code",
   "execution_count": 6,
   "metadata": {},
   "outputs": [],
   "source": [
    "# Separar la variable objetivo (price) y las características\n",
    "X = data.drop(columns=['price'])  # Todas las columnas excepto 'price'\n",
    "y = data['price']  # Precio de la vivienda"
   ]
  },
  {
   "cell_type": "markdown",
   "metadata": {},
   "source": [
    "## Step 2: Normalize characteristics and Objective variable"
   ]
  },
  {
   "cell_type": "code",
   "execution_count": 7,
   "metadata": {},
   "outputs": [],
   "source": [
    "# Normalizar las características con StandardScaler\n",
    "scaler_X = StandardScaler()\n",
    "X_scaled = scaler_X.fit_transform(X)\n",
    "\n",
    "# Convertir de nuevo a DataFrame con los mismos nombres de columnas\n",
    "X_scaled = pd.DataFrame(X_scaled, columns=X.columns)\n",
    "\n",
    "y_scaled = y / 1_000_000"
   ]
  },
  {
   "cell_type": "markdown",
   "metadata": {},
   "source": [
    "## Step 3: save normalized data"
   ]
  },
  {
   "cell_type": "code",
   "execution_count": 8,
   "metadata": {},
   "outputs": [
    {
     "name": "stdout",
     "output_type": "stream",
     "text": [
      "Datos normalizados guardados correctamente.\n"
     ]
    }
   ],
   "source": [
    "# Unir X y y escalados en un solo DataFrame\n",
    "normalized_data = X_scaled.copy()\n",
    "normalized_data['price'] = y_scaled\n",
    "\n",
    "# Guardar los datos normalizados en un nuevo archivo CSV\n",
    "normalized_data.to_csv(\"normalized_data.csv\", index=False)\n",
    "\n",
    "print(\"Datos normalizados guardados correctamente.\")"
   ]
  }
 ],
 "metadata": {
  "kernelspec": {
   "display_name": "environment",
   "language": "python",
   "name": "python3"
  },
  "language_info": {
   "codemirror_mode": {
    "name": "ipython",
    "version": 3
   },
   "file_extension": ".py",
   "mimetype": "text/x-python",
   "name": "python",
   "nbconvert_exporter": "python",
   "pygments_lexer": "ipython3",
   "version": "3.12.2"
  }
 },
 "nbformat": 4,
 "nbformat_minor": 2
}
